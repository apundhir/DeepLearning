{
 "cells": [
  {
   "cell_type": "markdown",
   "metadata": {},
   "source": [
    "<h1 align=\"center\">TensorFlow Neural Network Lab</h1>"
   ]
  },
  {
   "cell_type": "markdown",
   "metadata": {},
   "source": [
    "<img src=\"image/notmnist.png\">\n",
    "In this lab, you'll use all the tools you learned from *Introduction to TensorFlow* to label images of English letters! The data you are using, <a href=\"http://yaroslavvb.blogspot.com/2011/09/notmnist-dataset.html\">notMNIST</a>, consists of images of a letter from A to J in different fonts.\n",
    "\n",
    "The above images are a few examples of the data you'll be training on. After training the network, you will compare your prediction model against test data. Your goal, by the end of this lab, is to make predictions against that test set with at least an 80% accuracy. Let's jump in!"
   ]
  },
  {
   "cell_type": "markdown",
   "metadata": {},
   "source": [
    "To start this lab, you first need to import all the necessary modules. Run the code below. If it runs successfully, it will print \"`All modules imported`\"."
   ]
  },
  {
   "cell_type": "code",
   "execution_count": 1,
   "metadata": {
    "collapsed": false
   },
   "outputs": [
    {
     "name": "stdout",
     "output_type": "stream",
     "text": [
      "All modules imported.\n"
     ]
    }
   ],
   "source": [
    "import hashlib\n",
    "import os\n",
    "import pickle\n",
    "from urllib.request import urlretrieve\n",
    "\n",
    "import numpy as np\n",
    "from PIL import Image\n",
    "from sklearn.model_selection import train_test_split\n",
    "from sklearn.preprocessing import LabelBinarizer\n",
    "from sklearn.utils import resample\n",
    "from tqdm import tqdm\n",
    "from zipfile import ZipFile\n",
    "\n",
    "print('All modules imported.')"
   ]
  },
  {
   "cell_type": "markdown",
   "metadata": {},
   "source": [
    "The notMNIST dataset is too large for many computers to handle.  It contains 500,000 images for just training.  You'll be using a subset of this data, 15,000 images for each label (A-J)."
   ]
  },
  {
   "cell_type": "code",
   "execution_count": 2,
   "metadata": {
    "collapsed": false
   },
   "outputs": [
    {
     "name": "stdout",
     "output_type": "stream",
     "text": [
      "All files downloaded.\n"
     ]
    }
   ],
   "source": [
    "def download(url, file):\n",
    "    \"\"\"\n",
    "    Download file from <url>\n",
    "    :param url: URL to file\n",
    "    :param file: Local file path\n",
    "    \"\"\"\n",
    "    if not os.path.isfile(file):\n",
    "        print('Downloading ' + file + '...')\n",
    "        urlretrieve(url, file)\n",
    "        print('Download Finished')\n",
    "\n",
    "# Download the training and test dataset.\n",
    "download('https://s3.amazonaws.com/udacity-sdc/notMNIST_train.zip', 'notMNIST_train.zip')\n",
    "download('https://s3.amazonaws.com/udacity-sdc/notMNIST_test.zip', 'notMNIST_test.zip')\n",
    "\n",
    "# Make sure the files aren't corrupted\n",
    "assert hashlib.md5(open('notMNIST_train.zip', 'rb').read()).hexdigest() == 'c8673b3f28f489e9cdf3a3d74e2ac8fa',\\\n",
    "        'notMNIST_train.zip file is corrupted.  Remove the file and try again.'\n",
    "assert hashlib.md5(open('notMNIST_test.zip', 'rb').read()).hexdigest() == '5d3c7e653e63471c88df796156a9dfa9',\\\n",
    "        'notMNIST_test.zip file is corrupted.  Remove the file and try again.'\n",
    "\n",
    "# Wait until you see that all files have been downloaded.\n",
    "print('All files downloaded.')"
   ]
  },
  {
   "cell_type": "code",
   "execution_count": 3,
   "metadata": {
    "collapsed": false
   },
   "outputs": [
    {
     "name": "stderr",
     "output_type": "stream",
     "text": [
      "100%|██████████| 210001/210001 [00:47<00:00, 4432.53files/s]\n",
      "100%|██████████| 10001/10001 [00:02<00:00, 4592.24files/s]\n"
     ]
    },
    {
     "name": "stdout",
     "output_type": "stream",
     "text": [
      "All features and labels uncompressed.\n"
     ]
    }
   ],
   "source": [
    "def uncompress_features_labels(file):\n",
    "    \"\"\"\n",
    "    Uncompress features and labels from a zip file\n",
    "    :param file: The zip file to extract the data from\n",
    "    \"\"\"\n",
    "    features = []\n",
    "    labels = []\n",
    "\n",
    "    with ZipFile(file) as zipf:\n",
    "        # Progress Bar\n",
    "        filenames_pbar = tqdm(zipf.namelist(), unit='files')\n",
    "        \n",
    "        # Get features and labels from all files\n",
    "        for filename in filenames_pbar:\n",
    "            # Check if the file is a directory\n",
    "            if not filename.endswith('/'):\n",
    "                with zipf.open(filename) as image_file:\n",
    "                    image = Image.open(image_file)\n",
    "                    image.load()\n",
    "                    # Load image data as 1 dimensional array\n",
    "                    # We're using float32 to save on memory space\n",
    "                    feature = np.array(image, dtype=np.float32).flatten()\n",
    "\n",
    "                # Get the the letter from the filename.  This is the letter of the image.\n",
    "                label = os.path.split(filename)[1][0]\n",
    "\n",
    "                features.append(feature)\n",
    "                labels.append(label)\n",
    "    return np.array(features), np.array(labels)\n",
    "\n",
    "# Get the features and labels from the zip files\n",
    "train_features, train_labels = uncompress_features_labels('notMNIST_train.zip')\n",
    "test_features, test_labels = uncompress_features_labels('notMNIST_test.zip')\n",
    "\n",
    "# Limit the amount of data to work with a docker container\n",
    "docker_size_limit = 150000\n",
    "train_features, train_labels = resample(train_features, train_labels, n_samples=docker_size_limit)\n",
    "\n",
    "# Set flags for feature engineering.  This will prevent you from skipping an important step.\n",
    "is_features_normal = False\n",
    "is_labels_encod = False\n",
    "\n",
    "# Wait until you see that all features and labels have been uncompressed.\n",
    "print('All features and labels uncompressed.')"
   ]
  },
  {
   "cell_type": "markdown",
   "metadata": {},
   "source": [
    "<img src=\"image/Mean Variance - Image.png\" style=\"height: 75%;width: 75%; position: relative; right: 5%\">\n",
    "## Problem 1\n",
    "The first problem involves normalizing the features for your training and test data.\n",
    "\n",
    "Implement Min-Max scaling in the `normalize_grayscale()` function to a range of `a=0.1` and `b=0.9`. After scaling, the values of the pixels in the input data should range from 0.1 to 0.9.\n",
    "\n",
    "Since the raw notMNIST image data is in [grayscale](https://en.wikipedia.org/wiki/Grayscale), the current values range from a min of 0 to a max of 255.\n",
    "\n",
    "Min-Max Scaling:\n",
    "$\n",
    "X'=a+{\\frac {\\left(X-X_{\\min }\\right)\\left(b-a\\right)}{X_{\\max }-X_{\\min }}}\n",
    "$\n",
    "\n",
    "*If you're having trouble solving problem 1, you can view the solution [here](https://github.com/udacity/deep-learning/blob/master/intro-to-tensorFlow/intro_to_tensorflow_solution.ipynb).*"
   ]
  },
  {
   "cell_type": "code",
   "execution_count": 4,
   "metadata": {
    "collapsed": false
   },
   "outputs": [
    {
     "name": "stdout",
     "output_type": "stream",
     "text": [
      "Tests Passed!\n"
     ]
    }
   ],
   "source": [
    "# Problem 1 - Implement Min-Max scaling for grayscale image data\n",
    "def normalize_grayscale(image_data):\n",
    "    \"\"\"\n",
    "    Normalize the image data with Min-Max scaling to a range of [0.1, 0.9]\n",
    "    :param image_data: The image data to be normalized\n",
    "    :return: Normalized image data\n",
    "    \"\"\"\n",
    "    # TODO: Implement Min-Max scaling for grayscale image data\n",
    "    a = 0.1\n",
    "    b = 0.9\n",
    "    grayscale_min = 0\n",
    "    grayscale_max = 255\n",
    "    return a + ( ( (image_data - grayscale_min)*(b - a) )/( grayscale_max - grayscale_min ) )\n",
    "    \n",
    "\n",
    "### DON'T MODIFY ANYTHING BELOW ###\n",
    "# Test Cases\n",
    "np.testing.assert_array_almost_equal(\n",
    "    normalize_grayscale(np.array([0, 1, 2, 3, 4, 5, 6, 7, 8, 9, 10, 255])),\n",
    "    [0.1, 0.103137254902, 0.106274509804, 0.109411764706, 0.112549019608, 0.11568627451, 0.118823529412, 0.121960784314,\n",
    "     0.125098039216, 0.128235294118, 0.13137254902, 0.9],\n",
    "    decimal=3)\n",
    "np.testing.assert_array_almost_equal(\n",
    "    normalize_grayscale(np.array([0, 1, 10, 20, 30, 40, 233, 244, 254,255])),\n",
    "    [0.1, 0.103137254902, 0.13137254902, 0.162745098039, 0.194117647059, 0.225490196078, 0.830980392157, 0.865490196078,\n",
    "     0.896862745098, 0.9])\n",
    "\n",
    "if not is_features_normal:\n",
    "    train_features = normalize_grayscale(train_features)\n",
    "    test_features = normalize_grayscale(test_features)\n",
    "    is_features_normal = True\n",
    "\n",
    "print('Tests Passed!')"
   ]
  },
  {
   "cell_type": "code",
   "execution_count": 5,
   "metadata": {
    "collapsed": false
   },
   "outputs": [
    {
     "name": "stdout",
     "output_type": "stream",
     "text": [
      "Labels One-Hot Encoded\n"
     ]
    }
   ],
   "source": [
    "if not is_labels_encod:\n",
    "    # Turn labels into numbers and apply One-Hot Encoding\n",
    "    encoder = LabelBinarizer()\n",
    "    encoder.fit(train_labels)\n",
    "    train_labels = encoder.transform(train_labels)\n",
    "    test_labels = encoder.transform(test_labels)\n",
    "\n",
    "    # Change to float32, so it can be multiplied against the features in TensorFlow, which are float32\n",
    "    train_labels = train_labels.astype(np.float32)\n",
    "    test_labels = test_labels.astype(np.float32)\n",
    "    is_labels_encod = True\n",
    "\n",
    "print('Labels One-Hot Encoded')"
   ]
  },
  {
   "cell_type": "code",
   "execution_count": 6,
   "metadata": {
    "collapsed": false
   },
   "outputs": [
    {
     "name": "stdout",
     "output_type": "stream",
     "text": [
      "Training features and labels randomized and split.\n"
     ]
    }
   ],
   "source": [
    "assert is_features_normal, 'You skipped the step to normalize the features'\n",
    "assert is_labels_encod, 'You skipped the step to One-Hot Encode the labels'\n",
    "\n",
    "# Get randomized datasets for training and validation\n",
    "train_features, valid_features, train_labels, valid_labels = train_test_split(\n",
    "    train_features,\n",
    "    train_labels,\n",
    "    test_size=0.05,\n",
    "    random_state=832289)\n",
    "\n",
    "print('Training features and labels randomized and split.')"
   ]
  },
  {
   "cell_type": "code",
   "execution_count": 7,
   "metadata": {
    "collapsed": false
   },
   "outputs": [
    {
     "name": "stdout",
     "output_type": "stream",
     "text": [
      "Saving data to pickle file...\n",
      "Data cached in pickle file.\n"
     ]
    }
   ],
   "source": [
    "# Save the data for easy access\n",
    "pickle_file = 'notMNIST.pickle'\n",
    "if not os.path.isfile(pickle_file):\n",
    "    print('Saving data to pickle file...')\n",
    "    try:\n",
    "        with open('notMNIST.pickle', 'wb') as pfile:\n",
    "            pickle.dump(\n",
    "                {\n",
    "                    'train_dataset': train_features,\n",
    "                    'train_labels': train_labels,\n",
    "                    'valid_dataset': valid_features,\n",
    "                    'valid_labels': valid_labels,\n",
    "                    'test_dataset': test_features,\n",
    "                    'test_labels': test_labels,\n",
    "                },\n",
    "                pfile, pickle.HIGHEST_PROTOCOL)\n",
    "    except Exception as e:\n",
    "        print('Unable to save data to', pickle_file, ':', e)\n",
    "        raise\n",
    "\n",
    "print('Data cached in pickle file.')"
   ]
  },
  {
   "cell_type": "markdown",
   "metadata": {},
   "source": [
    "# Checkpoint\n",
    "All your progress is now saved to the pickle file.  If you need to leave and comeback to this lab, you no longer have to start from the beginning.  Just run the code block below and it will load all the data and modules required to proceed."
   ]
  },
  {
   "cell_type": "code",
   "execution_count": 8,
   "metadata": {
    "collapsed": false
   },
   "outputs": [
    {
     "name": "stderr",
     "output_type": "stream",
     "text": [
      "/Users/apundhir/anaconda/envs/dlnd-tf-lab/lib/python3.5/site-packages/matplotlib/font_manager.py:273: UserWarning: Matplotlib is building the font cache using fc-list. This may take a moment.\n",
      "  warnings.warn('Matplotlib is building the font cache using fc-list. This may take a moment.')\n",
      "/Users/apundhir/anaconda/envs/dlnd-tf-lab/lib/python3.5/site-packages/matplotlib/font_manager.py:273: UserWarning: Matplotlib is building the font cache using fc-list. This may take a moment.\n",
      "  warnings.warn('Matplotlib is building the font cache using fc-list. This may take a moment.')\n"
     ]
    },
    {
     "name": "stdout",
     "output_type": "stream",
     "text": [
      "Data and modules loaded.\n"
     ]
    }
   ],
   "source": [
    "%matplotlib inline\n",
    "\n",
    "# Load the modules\n",
    "import pickle\n",
    "import math\n",
    "\n",
    "import numpy as np\n",
    "import tensorflow as tf\n",
    "from tqdm import tqdm\n",
    "import matplotlib.pyplot as plt\n",
    "\n",
    "# Reload the data\n",
    "pickle_file = 'notMNIST.pickle'\n",
    "with open(pickle_file, 'rb') as f:\n",
    "  pickle_data = pickle.load(f)\n",
    "  train_features = pickle_data['train_dataset']\n",
    "  train_labels = pickle_data['train_labels']\n",
    "  valid_features = pickle_data['valid_dataset']\n",
    "  valid_labels = pickle_data['valid_labels']\n",
    "  test_features = pickle_data['test_dataset']\n",
    "  test_labels = pickle_data['test_labels']\n",
    "  del pickle_data  # Free up memory\n",
    "\n",
    "print('Data and modules loaded.')"
   ]
  },
  {
   "cell_type": "markdown",
   "metadata": {},
   "source": [
    "\n",
    "## Problem 2\n",
    "\n",
    "Now it's time to build a simple neural network using TensorFlow. Here, your network will be just an input layer and an output layer.\n",
    "\n",
    "<img src=\"image/network_diagram.png\" style=\"height: 40%;width: 40%; position: relative; right: 10%\">\n",
    "\n",
    "For the input here the images have been flattened into a vector of $28 \\times 28 = 784$ features. Then, we're trying to predict the image digit so there are 10 output units, one for each label. Of course, feel free to add hidden layers if you want, but this notebook is built to guide you through a single layer network. \n",
    "\n",
    "For the neural network to train on your data, you need the following <a href=\"https://www.tensorflow.org/resources/dims_types.html#data-types\">float32</a> tensors:\n",
    " - `features`\n",
    "  - Placeholder tensor for feature data (`train_features`/`valid_features`/`test_features`)\n",
    " - `labels`\n",
    "  - Placeholder tensor for label data (`train_labels`/`valid_labels`/`test_labels`)\n",
    " - `weights`\n",
    "  - Variable Tensor with random numbers from a truncated normal distribution.\n",
    "    - See <a href=\"https://www.tensorflow.org/api_docs/python/constant_op.html#truncated_normal\">`tf.truncated_normal()` documentation</a> for help.\n",
    " - `biases`\n",
    "  - Variable Tensor with all zeros.\n",
    "    - See <a href=\"https://www.tensorflow.org/api_docs/python/constant_op.html#zeros\"> `tf.zeros()` documentation</a> for help.\n",
    "\n",
    "*If you're having trouble solving problem 2, review \"TensorFlow Linear Function\" section of the class.  If that doesn't help, the solution for this problem is available [here](intro_to_tensorflow_solution.ipynb).*"
   ]
  },
  {
   "cell_type": "code",
   "execution_count": 10,
   "metadata": {
    "collapsed": false
   },
   "outputs": [
    {
     "name": "stdout",
     "output_type": "stream",
     "text": [
      "Tests Passed!\n"
     ]
    }
   ],
   "source": [
    "# All the pixels in the image (28 * 28 = 784)\n",
    "features_count = 784\n",
    "# All the labels\n",
    "labels_count = 10\n",
    "\n",
    "# TODO: Set the features and labels tensors\n",
    "features = tf.placeholder(tf.float32)\n",
    "labels = tf.placeholder(tf.float32)\n",
    "\n",
    "# TODO: Set the weights and biases tensors\n",
    "weights = tf.Variable(tf.truncated_normal((features_count, labels_count)))\n",
    "biases = tf.Variable(tf.zeros(labels_count))\n",
    "\n",
    "\n",
    "\n",
    "### DON'T MODIFY ANYTHING BELOW ###\n",
    "\n",
    "#Test Cases\n",
    "from tensorflow.python.ops.variables import Variable\n",
    "\n",
    "assert features._op.name.startswith('Placeholder'), 'features must be a placeholder'\n",
    "assert labels._op.name.startswith('Placeholder'), 'labels must be a placeholder'\n",
    "assert isinstance(weights, Variable), 'weights must be a TensorFlow variable'\n",
    "assert isinstance(biases, Variable), 'biases must be a TensorFlow variable'\n",
    "\n",
    "assert features._shape == None or (\\\n",
    "    features._shape.dims[0].value is None and\\\n",
    "    features._shape.dims[1].value in [None, 784]), 'The shape of features is incorrect'\n",
    "assert labels._shape  == None or (\\\n",
    "    labels._shape.dims[0].value is None and\\\n",
    "    labels._shape.dims[1].value in [None, 10]), 'The shape of labels is incorrect'\n",
    "assert weights._variable._shape == (784, 10), 'The shape of weights is incorrect'\n",
    "assert biases._variable._shape == (10), 'The shape of biases is incorrect'\n",
    "\n",
    "assert features._dtype == tf.float32, 'features must be type float32'\n",
    "assert labels._dtype == tf.float32, 'labels must be type float32'\n",
    "\n",
    "# Feed dicts for training, validation, and test session\n",
    "train_feed_dict = {features: train_features, labels: train_labels}\n",
    "valid_feed_dict = {features: valid_features, labels: valid_labels}\n",
    "test_feed_dict = {features: test_features, labels: test_labels}\n",
    "\n",
    "# Linear Function WX + b\n",
    "logits = tf.matmul(features, weights) + biases\n",
    "\n",
    "prediction = tf.nn.softmax(logits)\n",
    "\n",
    "# Cross entropy\n",
    "cross_entropy = -tf.reduce_sum(labels * tf.log(prediction), reduction_indices=1)\n",
    "\n",
    "# Training loss\n",
    "loss = tf.reduce_mean(cross_entropy)\n",
    "\n",
    "# Create an operation that initializes all variables\n",
    "init = tf.global_variables_initializer()\n",
    "\n",
    "# Test Cases\n",
    "with tf.Session() as session:\n",
    "    session.run(init)\n",
    "    session.run(loss, feed_dict=train_feed_dict)\n",
    "    session.run(loss, feed_dict=valid_feed_dict)\n",
    "    session.run(loss, feed_dict=test_feed_dict)\n",
    "    biases_data = session.run(biases)\n",
    "\n",
    "assert not np.count_nonzero(biases_data), 'biases must be zeros'\n",
    "\n",
    "print('Tests Passed!')"
   ]
  },
  {
   "cell_type": "code",
   "execution_count": 11,
   "metadata": {
    "collapsed": false
   },
   "outputs": [
    {
     "name": "stdout",
     "output_type": "stream",
     "text": [
      "Accuracy function created.\n"
     ]
    }
   ],
   "source": [
    "# Determine if the predictions are correct\n",
    "is_correct_prediction = tf.equal(tf.argmax(prediction, 1), tf.argmax(labels, 1))\n",
    "# Calculate the accuracy of the predictions\n",
    "accuracy = tf.reduce_mean(tf.cast(is_correct_prediction, tf.float32))\n",
    "\n",
    "print('Accuracy function created.')"
   ]
  },
  {
   "cell_type": "markdown",
   "metadata": {},
   "source": [
    "<img src=\"image/Learn Rate Tune - Image.png\" style=\"height: 70%;width: 70%\">\n",
    "## Problem 3\n",
    "Below are 2 parameter configurations for training the neural network. In each configuration, one of the parameters has multiple options. For each configuration, choose the option that gives the best acccuracy.\n",
    "\n",
    "Parameter configurations:\n",
    "\n",
    "Configuration 1\n",
    "* **Epochs:** 1\n",
    "* **Learning Rate:**\n",
    "  * 0.8\n",
    "  * 0.5\n",
    "  * 0.1\n",
    "  * 0.05\n",
    "  * 0.01\n",
    "\n",
    "Configuration 2\n",
    "* **Epochs:**\n",
    "  * 1\n",
    "  * 2\n",
    "  * 3\n",
    "  * 4\n",
    "  * 5\n",
    "* **Learning Rate:** 0.2\n",
    "\n",
    "The code will print out a Loss and Accuracy graph, so you can see how well the neural network performed.\n",
    "\n",
    "*If you're having trouble solving problem 3, you can view the solution [here](intro_to_tensorflow_solution.ipynb).*"
   ]
  },
  {
   "cell_type": "code",
   "execution_count": 13,
   "metadata": {
    "collapsed": false
   },
   "outputs": [
    {
     "name": "stderr",
     "output_type": "stream",
     "text": [
      "Epoch  1/100: 100%|██████████| 1114/1114 [00:16<00:00, 68.06batches/s]\n",
      "Epoch  2/100: 100%|██████████| 1114/1114 [00:17<00:00, 62.42batches/s]\n",
      "Epoch  3/100: 100%|██████████| 1114/1114 [00:20<00:00, 54.36batches/s]\n",
      "Epoch  4/100: 100%|██████████| 1114/1114 [00:18<00:00, 59.35batches/s]\n",
      "Epoch  5/100: 100%|██████████| 1114/1114 [00:16<00:00, 66.40batches/s]\n",
      "Epoch  6/100: 100%|██████████| 1114/1114 [00:16<00:00, 68.79batches/s]\n",
      "Epoch  7/100: 100%|██████████| 1114/1114 [00:17<00:00, 64.30batches/s]\n",
      "Epoch  8/100: 100%|██████████| 1114/1114 [00:20<00:00, 55.57batches/s]\n",
      "Epoch  9/100: 100%|██████████| 1114/1114 [00:21<00:00, 52.97batches/s]\n",
      "Epoch 10/100: 100%|██████████| 1114/1114 [00:21<00:00, 52.17batches/s]\n",
      "Epoch 11/100: 100%|██████████| 1114/1114 [00:19<00:00, 56.26batches/s]\n",
      "Epoch 12/100: 100%|██████████| 1114/1114 [00:20<00:00, 55.21batches/s]\n",
      "Epoch 13/100: 100%|██████████| 1114/1114 [00:22<00:00, 48.98batches/s]\n",
      "Epoch 14/100: 100%|██████████| 1114/1114 [00:20<00:00, 54.95batches/s]\n",
      "Epoch 15/100: 100%|██████████| 1114/1114 [00:21<00:00, 50.70batches/s]\n",
      "Epoch 16/100: 100%|██████████| 1114/1114 [00:23<00:00, 47.24batches/s]\n",
      "Epoch 17/100: 100%|██████████| 1114/1114 [00:18<00:00, 61.24batches/s]\n",
      "Epoch 18/100: 100%|██████████| 1114/1114 [00:15<00:00, 72.03batches/s]\n",
      "Epoch 19/100: 100%|██████████| 1114/1114 [00:19<00:00, 55.88batches/s]\n",
      "Epoch 20/100: 100%|██████████| 1114/1114 [00:20<00:00, 53.46batches/s]\n",
      "Epoch 21/100: 100%|██████████| 1114/1114 [00:22<00:00, 49.13batches/s]\n",
      "Epoch 22/100: 100%|██████████| 1114/1114 [00:19<00:00, 56.19batches/s]\n",
      "Epoch 23/100: 100%|██████████| 1114/1114 [00:19<00:00, 57.83batches/s]\n",
      "Epoch 24/100: 100%|██████████| 1114/1114 [00:17<00:00, 65.47batches/s]\n",
      "Epoch 25/100: 100%|██████████| 1114/1114 [00:16<00:00, 69.60batches/s]\n",
      "Epoch 26/100: 100%|██████████| 1114/1114 [00:15<00:00, 70.14batches/s]\n",
      "Epoch 27/100: 100%|██████████| 1114/1114 [00:19<00:00, 58.33batches/s]\n",
      "Epoch 28/100: 100%|██████████| 1114/1114 [00:15<00:00, 72.21batches/s]\n",
      "Epoch 29/100: 100%|██████████| 1114/1114 [00:14<00:00, 76.48batches/s]\n",
      "Epoch 30/100: 100%|██████████| 1114/1114 [00:15<00:00, 74.14batches/s]\n",
      "Epoch 31/100: 100%|██████████| 1114/1114 [00:20<00:00, 53.06batches/s]\n",
      "Epoch 32/100: 100%|██████████| 1114/1114 [00:16<00:00, 68.75batches/s]\n",
      "Epoch 33/100: 100%|██████████| 1114/1114 [00:14<00:00, 76.47batches/s]\n",
      "Epoch 34/100: 100%|██████████| 1114/1114 [00:14<00:00, 76.86batches/s]\n",
      "Epoch 35/100: 100%|██████████| 1114/1114 [00:14<00:00, 75.95batches/s]\n",
      "Epoch 36/100: 100%|██████████| 1114/1114 [00:14<00:00, 76.67batches/s]\n",
      "Epoch 37/100: 100%|██████████| 1114/1114 [00:14<00:00, 76.86batches/s]\n",
      "Epoch 38/100: 100%|██████████| 1114/1114 [00:14<00:00, 76.23batches/s]\n",
      "Epoch 39/100: 100%|██████████| 1114/1114 [00:14<00:00, 75.51batches/s]\n",
      "Epoch 40/100: 100%|██████████| 1114/1114 [00:14<00:00, 76.60batches/s]\n",
      "Epoch 41/100: 100%|██████████| 1114/1114 [00:14<00:00, 76.45batches/s]\n",
      "Epoch 42/100: 100%|██████████| 1114/1114 [00:14<00:00, 77.02batches/s]\n",
      "Epoch 43/100: 100%|██████████| 1114/1114 [00:14<00:00, 76.48batches/s]\n",
      "Epoch 44/100: 100%|██████████| 1114/1114 [00:14<00:00, 76.13batches/s]\n",
      "Epoch 45/100: 100%|██████████| 1114/1114 [00:14<00:00, 76.49batches/s]\n",
      "Epoch 46/100: 100%|██████████| 1114/1114 [00:14<00:00, 76.23batches/s]\n",
      "Epoch 47/100: 100%|██████████| 1114/1114 [00:14<00:00, 76.23batches/s]\n",
      "Epoch 48/100: 100%|██████████| 1114/1114 [00:14<00:00, 75.79batches/s]\n",
      "Epoch 49/100: 100%|██████████| 1114/1114 [00:14<00:00, 76.46batches/s]\n",
      "Epoch 50/100: 100%|██████████| 1114/1114 [00:14<00:00, 76.92batches/s]\n",
      "Epoch 51/100: 100%|██████████| 1114/1114 [00:14<00:00, 76.06batches/s]\n",
      "Epoch 52/100: 100%|██████████| 1114/1114 [00:16<00:00, 65.88batches/s]\n",
      "Epoch 53/100: 100%|██████████| 1114/1114 [00:16<00:00, 68.82batches/s]\n",
      "Epoch 54/100: 100%|██████████| 1114/1114 [00:14<00:00, 76.41batches/s]\n",
      "Epoch 55/100: 100%|██████████| 1114/1114 [00:14<00:00, 76.25batches/s]\n",
      "Epoch 56/100: 100%|██████████| 1114/1114 [00:14<00:00, 79.51batches/s]\n",
      "Epoch 57/100: 100%|██████████| 1114/1114 [00:13<00:00, 80.61batches/s]\n",
      "Epoch 58/100: 100%|██████████| 1114/1114 [00:13<00:00, 81.82batches/s]\n",
      "Epoch 59/100: 100%|██████████| 1114/1114 [00:13<00:00, 80.74batches/s]\n",
      "Epoch 60/100: 100%|██████████| 1114/1114 [00:13<00:00, 80.98batches/s]\n",
      "Epoch 61/100: 100%|██████████| 1114/1114 [00:13<00:00, 81.31batches/s]\n",
      "Epoch 62/100: 100%|██████████| 1114/1114 [00:13<00:00, 80.85batches/s]\n",
      "Epoch 63/100: 100%|██████████| 1114/1114 [00:13<00:00, 80.75batches/s]\n",
      "Epoch 64/100: 100%|██████████| 1114/1114 [00:13<00:00, 80.97batches/s]\n",
      "Epoch 65/100: 100%|██████████| 1114/1114 [00:13<00:00, 80.91batches/s]\n",
      "Epoch 66/100: 100%|██████████| 1114/1114 [00:13<00:00, 81.15batches/s]\n",
      "Epoch 67/100: 100%|██████████| 1114/1114 [00:19<00:00, 57.56batches/s]\n",
      "Epoch 68/100: 100%|██████████| 1114/1114 [00:15<00:00, 73.56batches/s]\n",
      "Epoch 69/100: 100%|██████████| 1114/1114 [00:14<00:00, 75.74batches/s]\n",
      "Epoch 70/100: 100%|██████████| 1114/1114 [00:14<00:00, 76.06batches/s]\n",
      "Epoch 71/100: 100%|██████████| 1114/1114 [00:14<00:00, 75.61batches/s]\n",
      "Epoch 72/100: 100%|██████████| 1114/1114 [00:15<00:00, 74.15batches/s]\n",
      "Epoch 73/100: 100%|██████████| 1114/1114 [00:14<00:00, 74.73batches/s]\n",
      "Epoch 74/100: 100%|██████████| 1114/1114 [00:14<00:00, 76.50batches/s]\n",
      "Epoch 75/100: 100%|██████████| 1114/1114 [00:14<00:00, 75.03batches/s]\n",
      "Epoch 76/100: 100%|██████████| 1114/1114 [00:14<00:00, 75.45batches/s]\n",
      "Epoch 77/100: 100%|██████████| 1114/1114 [00:15<00:00, 71.57batches/s]\n",
      "Epoch 78/100: 100%|██████████| 1114/1114 [00:18<00:00, 59.83batches/s]\n",
      "Epoch 79/100: 100%|██████████| 1114/1114 [00:15<00:00, 71.68batches/s]\n",
      "Epoch 80/100: 100%|██████████| 1114/1114 [00:15<00:00, 72.35batches/s]\n",
      "Epoch 81/100: 100%|██████████| 1114/1114 [00:14<00:00, 75.76batches/s]\n",
      "Epoch 82/100: 100%|██████████| 1114/1114 [00:16<00:00, 66.81batches/s]\n",
      "Epoch 83/100: 100%|██████████| 1114/1114 [00:20<00:00, 55.33batches/s]\n",
      "Epoch 84/100: 100%|██████████| 1114/1114 [00:16<00:00, 66.45batches/s]\n",
      "Epoch 85/100: 100%|██████████| 1114/1114 [00:15<00:00, 70.20batches/s]\n",
      "Epoch 86/100: 100%|██████████| 1114/1114 [00:14<00:00, 75.40batches/s]\n",
      "Epoch 87/100: 100%|██████████| 1114/1114 [00:14<00:00, 74.52batches/s]\n",
      "Epoch 88/100: 100%|██████████| 1114/1114 [00:14<00:00, 75.39batches/s]\n",
      "Epoch 89/100: 100%|██████████| 1114/1114 [00:14<00:00, 75.43batches/s]\n",
      "Epoch 90/100: 100%|██████████| 1114/1114 [00:14<00:00, 75.46batches/s]\n",
      "Epoch 91/100: 100%|██████████| 1114/1114 [00:14<00:00, 75.24batches/s]\n",
      "Epoch 92/100: 100%|██████████| 1114/1114 [00:14<00:00, 75.67batches/s]\n",
      "Epoch 93/100: 100%|██████████| 1114/1114 [00:14<00:00, 75.19batches/s]\n",
      "Epoch 94/100: 100%|██████████| 1114/1114 [00:14<00:00, 75.37batches/s]\n",
      "Epoch 95/100: 100%|██████████| 1114/1114 [00:14<00:00, 74.73batches/s]\n",
      "Epoch 96/100: 100%|██████████| 1114/1114 [00:14<00:00, 75.74batches/s]\n",
      "Epoch 97/100: 100%|██████████| 1114/1114 [00:14<00:00, 75.15batches/s]\n",
      "Epoch 98/100: 100%|██████████| 1114/1114 [00:14<00:00, 75.42batches/s]\n",
      "Epoch 99/100: 100%|██████████| 1114/1114 [00:14<00:00, 74.94batches/s]\n",
      "Epoch 100/100: 100%|██████████| 1114/1114 [00:14<00:00, 75.55batches/s]\n"
     ]
    },
    {
     "data": {
      "image/png": "[encoded data removed]",
      "text/plain": [
       "<matplotlib.figure.Figure at 0x120d947f0>"
      ]
     },
     "metadata": {},
     "output_type": "display_data"
    },
    {
     "name": "stdout",
     "output_type": "stream",
     "text": [
      "Validation accuracy at 0.7900000214576721\n"
     ]
    }
   ],
   "source": [
    "# Change if you have memory restrictions\n",
    "batch_size = 128\n",
    "\n",
    "# TODO: Find the best parameters for each configuration\n",
    "epochs = 100\n",
    "learning_rate = 0.01\n",
    "\n",
    "\n",
    "\n",
    "### DON'T MODIFY ANYTHING BELOW ###\n",
    "# Gradient Descent\n",
    "optimizer = tf.train.GradientDescentOptimizer(learning_rate).minimize(loss)    \n",
    "\n",
    "# The accuracy measured against the validation set\n",
    "validation_accuracy = 0.0\n",
    "\n",
    "# Measurements use for graphing loss and accuracy\n",
    "log_batch_step = 50\n",
    "batches = []\n",
    "loss_batch = []\n",
    "train_acc_batch = []\n",
    "valid_acc_batch = []\n",
    "\n",
    "with tf.Session() as session:\n",
    "    session.run(init)\n",
    "    batch_count = int(math.ceil(len(train_features)/batch_size))\n",
    "\n",
    "    for epoch_i in range(epochs):\n",
    "        \n",
    "        # Progress bar\n",
    "        batches_pbar = tqdm(range(batch_count), desc='Epoch {:>2}/{}'.format(epoch_i+1, epochs), unit='batches')\n",
    "        \n",
    "        # The training cycle\n",
    "        for batch_i in batches_pbar:\n",
    "            # Get a batch of training features and labels\n",
    "            batch_start = batch_i*batch_size\n",
    "            batch_features = train_features[batch_start:batch_start + batch_size]\n",
    "            batch_labels = train_labels[batch_start:batch_start + batch_size]\n",
    "\n",
    "            # Run optimizer and get loss\n",
    "            _, l = session.run(\n",
    "                [optimizer, loss],\n",
    "                feed_dict={features: batch_features, labels: batch_labels})\n",
    "\n",
    "            # Log every 50 batches\n",
    "            if not batch_i % log_batch_step:\n",
    "                # Calculate Training and Validation accuracy\n",
    "                training_accuracy = session.run(accuracy, feed_dict=train_feed_dict)\n",
    "                validation_accuracy = session.run(accuracy, feed_dict=valid_feed_dict)\n",
    "\n",
    "                # Log batches\n",
    "                previous_batch = batches[-1] if batches else 0\n",
    "                batches.append(log_batch_step + previous_batch)\n",
    "                loss_batch.append(l)\n",
    "                train_acc_batch.append(training_accuracy)\n",
    "                valid_acc_batch.append(validation_accuracy)\n",
    "\n",
    "        # Check accuracy against Validation data\n",
    "        validation_accuracy = session.run(accuracy, feed_dict=valid_feed_dict)\n",
    "\n",
    "loss_plot = plt.subplot(211)\n",
    "loss_plot.set_title('Loss')\n",
    "loss_plot.plot(batches, loss_batch, 'g')\n",
    "loss_plot.set_xlim([batches[0], batches[-1]])\n",
    "acc_plot = plt.subplot(212)\n",
    "acc_plot.set_title('Accuracy')\n",
    "acc_plot.plot(batches, train_acc_batch, 'r', label='Training Accuracy')\n",
    "acc_plot.plot(batches, valid_acc_batch, 'x', label='Validation Accuracy')\n",
    "acc_plot.set_ylim([0, 1.0])\n",
    "acc_plot.set_xlim([batches[0], batches[-1]])\n",
    "acc_plot.legend(loc=4)\n",
    "plt.tight_layout()\n",
    "plt.show()\n",
    "\n",
    "print('Validation accuracy at {}'.format(validation_accuracy))"
   ]
  },
  {
   "cell_type": "markdown",
   "metadata": {},
   "source": [
    "## Test\n",
    "You're going to test your model against your hold out dataset/testing data.  This will give you a good indicator of how well the model will do in the real world.  You should have a test accuracy of at least 80%."
   ]
  },
  {
   "cell_type": "code",
   "execution_count": 14,
   "metadata": {
    "collapsed": false
   },
   "outputs": [
    {
     "name": "stderr",
     "output_type": "stream",
     "text": [
      "Epoch  1/100: 100%|██████████| 1114/1114 [00:01<00:00, 628.14batches/s]\n",
      "Epoch  2/100: 100%|██████████| 1114/1114 [00:01<00:00, 719.65batches/s]\n",
      "Epoch  3/100: 100%|██████████| 1114/1114 [00:01<00:00, 720.90batches/s]\n",
      "Epoch  4/100: 100%|██████████| 1114/1114 [00:01<00:00, 646.49batches/s]\n",
      "Epoch  5/100: 100%|██████████| 1114/1114 [00:01<00:00, 596.17batches/s]\n",
      "Epoch  6/100: 100%|██████████| 1114/1114 [00:01<00:00, 658.34batches/s]\n",
      "Epoch  7/100: 100%|██████████| 1114/1114 [00:01<00:00, 681.99batches/s]\n",
      "Epoch  8/100: 100%|██████████| 1114/1114 [00:01<00:00, 709.57batches/s]\n",
      "Epoch  9/100: 100%|██████████| 1114/1114 [00:01<00:00, 643.26batches/s]\n",
      "Epoch 10/100: 100%|██████████| 1114/1114 [00:01<00:00, 639.20batches/s]\n",
      "Epoch 11/100: 100%|██████████| 1114/1114 [00:01<00:00, 600.30batches/s]\n",
      "Epoch 12/100: 100%|██████████| 1114/1114 [00:02<00:00, 530.21batches/s]\n",
      "Epoch 13/100: 100%|██████████| 1114/1114 [00:01<00:00, 715.10batches/s]\n",
      "Epoch 14/100: 100%|██████████| 1114/1114 [00:01<00:00, 594.49batches/s]\n",
      "Epoch 15/100: 100%|██████████| 1114/1114 [00:02<00:00, 507.19batches/s]\n",
      "Epoch 16/100: 100%|██████████| 1114/1114 [00:02<00:00, 541.35batches/s]\n",
      "Epoch 17/100: 100%|██████████| 1114/1114 [00:01<00:00, 594.82batches/s]\n",
      "Epoch 18/100: 100%|██████████| 1114/1114 [00:01<00:00, 660.27batches/s]\n",
      "Epoch 19/100: 100%|██████████| 1114/1114 [00:01<00:00, 678.28batches/s]\n",
      "Epoch 20/100: 100%|██████████| 1114/1114 [00:01<00:00, 641.26batches/s]\n",
      "Epoch 21/100: 100%|██████████| 1114/1114 [00:01<00:00, 651.62batches/s]\n",
      "Epoch 22/100: 100%|██████████| 1114/1114 [00:01<00:00, 647.11batches/s]\n",
      "Epoch 23/100: 100%|██████████| 1114/1114 [00:01<00:00, 622.28batches/s]\n",
      "Epoch 24/100: 100%|██████████| 1114/1114 [00:01<00:00, 621.53batches/s]\n",
      "Epoch 25/100: 100%|██████████| 1114/1114 [00:01<00:00, 694.35batches/s]\n",
      "Epoch 26/100: 100%|██████████| 1114/1114 [00:01<00:00, 689.55batches/s]\n",
      "Epoch 27/100: 100%|██████████| 1114/1114 [00:01<00:00, 687.97batches/s]\n",
      "Epoch 28/100: 100%|██████████| 1114/1114 [00:01<00:00, 619.53batches/s]\n",
      "Epoch 29/100: 100%|██████████| 1114/1114 [00:01<00:00, 621.10batches/s]\n",
      "Epoch 30/100: 100%|██████████| 1114/1114 [00:01<00:00, 613.52batches/s]\n",
      "Epoch 31/100: 100%|██████████| 1114/1114 [00:01<00:00, 610.53batches/s]\n",
      "Epoch 32/100: 100%|██████████| 1114/1114 [00:01<00:00, 627.61batches/s]\n",
      "Epoch 33/100: 100%|██████████| 1114/1114 [00:01<00:00, 618.23batches/s]\n",
      "Epoch 34/100: 100%|██████████| 1114/1114 [00:01<00:00, 605.31batches/s]\n",
      "Epoch 35/100: 100%|██████████| 1114/1114 [00:01<00:00, 602.62batches/s]\n",
      "Epoch 36/100: 100%|██████████| 1114/1114 [00:01<00:00, 638.58batches/s]\n",
      "Epoch 37/100: 100%|██████████| 1114/1114 [00:01<00:00, 614.27batches/s]\n",
      "Epoch 38/100: 100%|██████████| 1114/1114 [00:01<00:00, 652.59batches/s]\n",
      "Epoch 39/100: 100%|██████████| 1114/1114 [00:01<00:00, 568.23batches/s]\n",
      "Epoch 40/100: 100%|██████████| 1114/1114 [00:01<00:00, 574.17batches/s]\n",
      "Epoch 41/100: 100%|██████████| 1114/1114 [00:01<00:00, 624.12batches/s]\n",
      "Epoch 42/100: 100%|██████████| 1114/1114 [00:01<00:00, 578.68batches/s]\n",
      "Epoch 43/100: 100%|██████████| 1114/1114 [00:02<00:00, 500.82batches/s]\n",
      "Epoch 44/100: 100%|██████████| 1114/1114 [00:01<00:00, 559.60batches/s]\n",
      "Epoch 45/100: 100%|██████████| 1114/1114 [00:01<00:00, 587.84batches/s]\n",
      "Epoch 46/100: 100%|██████████| 1114/1114 [00:01<00:00, 611.72batches/s]\n",
      "Epoch 47/100: 100%|██████████| 1114/1114 [00:01<00:00, 595.39batches/s]\n",
      "Epoch 48/100: 100%|██████████| 1114/1114 [00:01<00:00, 577.46batches/s]\n",
      "Epoch 49/100: 100%|██████████| 1114/1114 [00:02<00:00, 547.93batches/s]\n",
      "Epoch 50/100: 100%|██████████| 1114/1114 [00:01<00:00, 604.56batches/s]\n",
      "Epoch 51/100: 100%|██████████| 1114/1114 [00:01<00:00, 572.33batches/s]\n",
      "Epoch 52/100: 100%|██████████| 1114/1114 [00:01<00:00, 571.92batches/s]\n",
      "Epoch 53/100: 100%|██████████| 1114/1114 [00:02<00:00, 546.06batches/s]\n",
      "Epoch 54/100: 100%|██████████| 1114/1114 [00:02<00:00, 548.19batches/s]\n",
      "Epoch 55/100: 100%|██████████| 1114/1114 [00:01<00:00, 567.65batches/s]\n",
      "Epoch 56/100: 100%|██████████| 1114/1114 [00:01<00:00, 572.78batches/s]\n",
      "Epoch 57/100: 100%|██████████| 1114/1114 [00:02<00:00, 515.63batches/s]\n",
      "Epoch 58/100: 100%|██████████| 1114/1114 [00:02<00:00, 512.50batches/s]\n",
      "Epoch 59/100: 100%|██████████| 1114/1114 [00:02<00:00, 550.94batches/s]\n",
      "Epoch 60/100: 100%|██████████| 1114/1114 [00:02<00:00, 551.27batches/s]\n",
      "Epoch 61/100: 100%|██████████| 1114/1114 [00:02<00:00, 540.02batches/s]\n",
      "Epoch 62/100: 100%|██████████| 1114/1114 [00:02<00:00, 471.84batches/s]\n",
      "Epoch 63/100: 100%|██████████| 1114/1114 [00:02<00:00, 473.46batches/s]\n",
      "Epoch 64/100: 100%|██████████| 1114/1114 [00:01<00:00, 578.25batches/s]\n",
      "Epoch 65/100: 100%|██████████| 1114/1114 [00:01<00:00, 560.51batches/s]\n",
      "Epoch 66/100: 100%|██████████| 1114/1114 [00:02<00:00, 491.24batches/s]\n",
      "Epoch 67/100: 100%|██████████| 1114/1114 [00:02<00:00, 512.86batches/s]\n",
      "Epoch 68/100: 100%|██████████| 1114/1114 [00:02<00:00, 534.78batches/s]\n",
      "Epoch 69/100: 100%|██████████| 1114/1114 [00:02<00:00, 532.83batches/s]\n",
      "Epoch 70/100: 100%|██████████| 1114/1114 [00:01<00:00, 562.06batches/s]\n",
      "Epoch 71/100: 100%|██████████| 1114/1114 [00:02<00:00, 538.89batches/s]\n",
      "Epoch 72/100: 100%|██████████| 1114/1114 [00:02<00:00, 492.63batches/s]\n",
      "Epoch 73/100: 100%|██████████| 1114/1114 [00:02<00:00, 513.09batches/s]\n",
      "Epoch 74/100: 100%|██████████| 1114/1114 [00:02<00:00, 544.79batches/s]\n",
      "Epoch 75/100: 100%|██████████| 1114/1114 [00:02<00:00, 514.34batches/s]\n",
      "Epoch 76/100: 100%|██████████| 1114/1114 [00:02<00:00, 523.41batches/s]\n",
      "Epoch 77/100: 100%|██████████| 1114/1114 [00:02<00:00, 497.93batches/s]\n",
      "Epoch 78/100: 100%|██████████| 1114/1114 [00:02<00:00, 529.60batches/s]\n",
      "Epoch 79/100: 100%|██████████| 1114/1114 [00:01<00:00, 567.89batches/s]\n",
      "Epoch 80/100: 100%|██████████| 1114/1114 [00:02<00:00, 534.95batches/s]\n",
      "Epoch 81/100: 100%|██████████| 1114/1114 [00:02<00:00, 521.60batches/s]\n",
      "Epoch 82/100: 100%|██████████| 1114/1114 [00:02<00:00, 549.04batches/s]\n",
      "Epoch 83/100: 100%|██████████| 1114/1114 [00:02<00:00, 533.44batches/s]\n",
      "Epoch 84/100: 100%|██████████| 1114/1114 [00:02<00:00, 532.84batches/s]\n",
      "Epoch 85/100: 100%|██████████| 1114/1114 [00:02<00:00, 497.97batches/s]\n",
      "Epoch 86/100: 100%|██████████| 1114/1114 [00:02<00:00, 525.23batches/s]\n",
      "Epoch 87/100: 100%|██████████| 1114/1114 [00:02<00:00, 543.46batches/s]\n",
      "Epoch 88/100: 100%|██████████| 1114/1114 [00:02<00:00, 530.01batches/s]\n",
      "Epoch 89/100: 100%|██████████| 1114/1114 [00:01<00:00, 574.40batches/s]\n",
      "Epoch 90/100: 100%|██████████| 1114/1114 [00:02<00:00, 497.83batches/s]\n",
      "Epoch 91/100: 100%|██████████| 1114/1114 [00:02<00:00, 551.15batches/s]\n",
      "Epoch 92/100: 100%|██████████| 1114/1114 [00:02<00:00, 541.35batches/s]\n",
      "Epoch 93/100: 100%|██████████| 1114/1114 [00:02<00:00, 495.29batches/s]\n",
      "Epoch 94/100: 100%|██████████| 1114/1114 [00:02<00:00, 494.24batches/s]\n",
      "Epoch 95/100: 100%|██████████| 1114/1114 [00:02<00:00, 547.01batches/s]\n",
      "Epoch 96/100: 100%|██████████| 1114/1114 [00:01<00:00, 629.06batches/s]\n",
      "Epoch 97/100: 100%|██████████| 1114/1114 [00:01<00:00, 583.22batches/s]\n",
      "Epoch 98/100: 100%|██████████| 1114/1114 [00:02<00:00, 490.98batches/s]\n",
      "Epoch 99/100: 100%|██████████| 1114/1114 [00:02<00:00, 515.51batches/s]\n",
      "Epoch 100/100: 100%|██████████| 1114/1114 [00:02<00:00, 522.54batches/s]"
     ]
    },
    {
     "name": "stdout",
     "output_type": "stream",
     "text": [
      "Nice Job! Test Accuracy is 0.8583999872207642\n"
     ]
    },
    {
     "name": "stderr",
     "output_type": "stream",
     "text": [
      "\n"
     ]
    }
   ],
   "source": [
    "### DON'T MODIFY ANYTHING BELOW ###\n",
    "# The accuracy measured against the test set\n",
    "test_accuracy = 0.0\n",
    "\n",
    "with tf.Session() as session:\n",
    "    \n",
    "    session.run(init)\n",
    "    batch_count = int(math.ceil(len(train_features)/batch_size))\n",
    "\n",
    "    for epoch_i in range(epochs):\n",
    "        \n",
    "        # Progress bar\n",
    "        batches_pbar = tqdm(range(batch_count), desc='Epoch {:>2}/{}'.format(epoch_i+1, epochs), unit='batches')\n",
    "        \n",
    "        # The training cycle\n",
    "        for batch_i in batches_pbar:\n",
    "            # Get a batch of training features and labels\n",
    "            batch_start = batch_i*batch_size\n",
    "            batch_features = train_features[batch_start:batch_start + batch_size]\n",
    "            batch_labels = train_labels[batch_start:batch_start + batch_size]\n",
    "\n",
    "            # Run optimizer\n",
    "            _ = session.run(optimizer, feed_dict={features: batch_features, labels: batch_labels})\n",
    "\n",
    "        # Check accuracy against Test data\n",
    "        test_accuracy = session.run(accuracy, feed_dict=test_feed_dict)\n",
    "\n",
    "\n",
    "assert test_accuracy >= 0.80, 'Test accuracy at {}, should be equal to or greater than 0.80'.format(test_accuracy)\n",
    "print('Nice Job! Test Accuracy is {}'.format(test_accuracy))"
   ]
  },
  {
   "cell_type": "markdown",
   "metadata": {},
   "source": [
    "# Multiple layers\n",
    "Good job!  You built a one layer TensorFlow network!  However, you might want to build more than one layer.  This is deep learning after all!  In the next section, you will start to satisfy your need for more layers."
   ]
  }
 ],
 "metadata": {
  "anaconda-cloud": {},
  "kernelspec": {
   "display_name": "Python 3",
   "language": "python",
   "name": "python3"
  },
  "language_info": {
   "codemirror_mode": {
    "name": "ipython",
    "version": 3
   },
   "file_extension": ".py",
   "mimetype": "text/x-python",
   "name": "python",
   "nbconvert_exporter": "python",
   "pygments_lexer": "ipython3",
   "version": "3.5.3"
  }
 },
 "nbformat": 4,
 "nbformat_minor": 0
}
